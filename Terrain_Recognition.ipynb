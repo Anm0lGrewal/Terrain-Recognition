{
  "nbformat": 4,
  "nbformat_minor": 0,
  "metadata": {
    "colab": {
      "provenance": [],
      "include_colab_link": true
    },
    "kernelspec": {
      "name": "python3",
      "display_name": "Python 3"
    },
    "language_info": {
      "name": "python"
    }
  },
  "cells": [
    {
      "cell_type": "markdown",
      "metadata": {
        "id": "view-in-github",
        "colab_type": "text"
      },
      "source": [
        "<a href=\"https://colab.research.google.com/github/Anm0lGrewal/Terrain_Recognition_Using_CNN/blob/main/Terrain_Recognition.ipynb\" target=\"_parent\"><img src=\"https://colab.research.google.com/assets/colab-badge.svg\" alt=\"Open In Colab\"/></a>"
      ]
    },
    {
      "cell_type": "code",
      "source": [
        "!pip install bing-image-downloader"
      ],
      "metadata": {
        "colab": {
          "base_uri": "https://localhost:8080/"
        },
        "id": "9v-HbiKkvW83",
        "outputId": "70ae11e9-9680-4016-b453-dccf8d2c3a3f"
      },
      "execution_count": null,
      "outputs": [
        {
          "output_type": "stream",
          "name": "stdout",
          "text": [
            "Requirement already satisfied: bing-image-downloader in /usr/local/lib/python3.10/dist-packages (1.1.2)\n"
          ]
        }
      ]
    },
    {
      "cell_type": "code",
      "source": [
        "!mkdir images"
      ],
      "metadata": {
        "id": "3_eHpoOjvooZ",
        "colab": {
          "base_uri": "https://localhost:8080/"
        },
        "outputId": "b64b70f1-71a4-45ec-85d4-bd01dd93544c"
      },
      "execution_count": null,
      "outputs": [
        {
          "output_type": "stream",
          "name": "stdout",
          "text": [
            "mkdir: cannot create directory ‘images’: File exists\n"
          ]
        }
      ]
    },
    {
      "cell_type": "markdown",
      "source": [],
      "metadata": {
        "id": "KZcgSkEELs2K"
      }
    },
    {
      "cell_type": "code",
      "source": [
        "from bing_image_downloader import downloader\n",
        "downloader.download(\"Grass\",limit=30,output_dir = 'images')"
      ],
      "metadata": {
        "colab": {
          "base_uri": "https://localhost:8080/"
        },
        "id": "AeuPp0lAvuYW",
        "outputId": "997e4607-c758-4eb4-ffa3-455908e2537e"
      },
      "execution_count": null,
      "outputs": [
        {
          "output_type": "stream",
          "name": "stdout",
          "text": [
            "[%] Downloading Images to /content/images/Grass\n",
            "\n",
            "\n",
            "[!!]Indexing page: 1\n",
            "\n",
            "[%] Indexed 30 Images on Page 1.\n",
            "\n",
            "===============================================\n",
            "\n",
            "[%] Downloading Image #1 from http://www.theproducersperspective.com/wp-content/uploads/2013/09/Broadway-Grass.jpg\n",
            "[%] File Downloaded !\n",
            "\n",
            "[%] Downloading Image #2 from https://upload.wikimedia.org/wikipedia/commons/1/13/Green_Grass.JPG\n",
            "[%] File Downloaded !\n",
            "\n",
            "[%] Downloading Image #3 from http://upload.wikimedia.org/wikipedia/commons/d/da/Grass_closeup.JPG\n",
            "[%] File Downloaded !\n",
            "\n",
            "[%] Downloading Image #4 from http://upload.wikimedia.org/wikipedia/commons/9/96/Grass-JW.jpg\n",
            "[%] File Downloaded !\n",
            "\n",
            "[%] Downloading Image #5 from http://upload.wikimedia.org/wikipedia/commons/6/68/Grass_dsc08672-nevit.jpg\n",
            "[%] File Downloaded !\n",
            "\n",
            "[%] Downloading Image #6 from http://upload.wikimedia.org/wikipedia/commons/a/a6/Grass_01.jpg\n",
            "[%] File Downloaded !\n",
            "\n",
            "[%] Downloading Image #7 from https://pagecrafter.com/wp-content/uploads/2013/06/openfieldgrass.jpg\n",
            "[%] File Downloaded !\n",
            "\n",
            "[%] Downloading Image #8 from https://3.bp.blogspot.com/-iioNUcismpA/TfPgo4TZPtI/AAAAAAAAAP0/czLib5LRDTM/s1600/grass_TF1.jpg\n",
            "[%] File Downloaded !\n",
            "\n",
            "[%] Downloading Image #9 from https://www.hdwallpaperspulse.com/wp-content/uploads/2014/09/04/w4.jpeg\n",
            "[%] File Downloaded !\n",
            "\n",
            "[%] Downloading Image #10 from http://anokatony.files.wordpress.com/2010/04/grass.jpg\n",
            "[%] File Downloaded !\n",
            "\n",
            "[%] Downloading Image #11 from http://upload.wikimedia.org/wikipedia/commons/1/11/Desert_de_Retz_Grass.jpg\n",
            "[%] File Downloaded !\n",
            "\n",
            "[%] Downloading Image #12 from https://vignette.wikia.nocookie.net/gemipedia/images/f/f8/Grass.jpg/revision/latest?cb=20150109003215\n",
            "[%] File Downloaded !\n",
            "\n",
            "[%] Downloading Image #13 from https://c1.staticflickr.com/3/2115/2420997341_756066f954_z.jpg\n",
            "[!] Issue getting: https://c1.staticflickr.com/3/2115/2420997341_756066f954_z.jpg\n",
            "[!] Error:: HTTP Error 502: Bad Gateway\n",
            "[%] Downloading Image #13 from http://sustainablelivestocknutrition.com/wp-content/uploads/2014/03/grass_grasses_green_274133_h.jpg\n",
            "[%] File Downloaded !\n",
            "\n",
            "[%] Downloading Image #14 from https://mameara.com/wp-content/uploads/2010/09/Grass_img.jpg\n",
            "[%] File Downloaded !\n",
            "\n",
            "[%] Downloading Image #15 from https://b.rgbimg.com/cache1nGANW/users/b/br/branox/600/mi2ZCSq.jpg\n",
            "[%] File Downloaded !\n",
            "\n",
            "[%] Downloading Image #16 from https://weknowyourdreams.com/images/grass/grass-13.jpg\n",
            "[!] Issue getting: https://weknowyourdreams.com/images/grass/grass-13.jpg\n",
            "[!] Error:: <urlopen error [SSL: CERTIFICATE_VERIFY_FAILED] certificate verify failed: unable to get local issuer certificate (_ssl.c:1007)>\n",
            "[%] Downloading Image #16 from https://i.stack.imgur.com/jtGiN.jpg\n",
            "[%] File Downloaded !\n",
            "\n",
            "[%] Downloading Image #17 from https://3.bp.blogspot.com/-IYa5FmifSOw/TibWkZdwlEI/AAAAAAAAAjs/Ht8udLUm5Ro/s1600/grass+by+brooke.jpg\n",
            "[%] File Downloaded !\n",
            "\n",
            "[%] Downloading Image #18 from https://1.bp.blogspot.com/-dX3IoloffbM/WPvcON3YoSI/AAAAAAAAjT4/oJaGtSTYlkoW9yy1tTAANiU2LEpsJdEvgCLcB/s1600/grass.jpeg\n",
            "[%] File Downloaded !\n",
            "\n",
            "[%] Downloading Image #19 from http://www.dodgerthoughts.com/wp-content/uploads/2012/04/grass11.jpg\n",
            "[%] File Downloaded !\n",
            "\n",
            "[%] Downloading Image #20 from https://s-media-cache-ak0.pinimg.com/originals/02/4b/1c/024b1c934760aa858cdc4366c2744621.jpg\n",
            "[%] File Downloaded !\n",
            "\n",
            "[%] Downloading Image #21 from https://s.hdnux.com/photos/34/77/04/7598370/7/rawImage.jpg\n",
            "[%] File Downloaded !\n",
            "\n",
            "[%] Downloading Image #22 from http://feelgrafix.com/data_images/out/9/822600-grass.jpg\n",
            "[!] Issue getting: http://feelgrafix.com/data_images/out/9/822600-grass.jpg\n",
            "[!] Error:: HTTP Error 404: Not Found\n",
            "[%] Downloading Image #22 from http://upload.wikimedia.org/wikipedia/commons/5/51/Allianz_Arena_closeup_on_grass.jpg\n",
            "[%] File Downloaded !\n",
            "\n",
            "[%] Downloading Image #23 from http://www.devinjpoore.com/blog/wp-content/photos/grass.jpg\n",
            "[%] File Downloaded !\n",
            "\n",
            "[%] Downloading Image #24 from https://i.stack.imgur.com/qv0sq.jpg\n",
            "[%] File Downloaded !\n",
            "\n",
            "[%] Downloading Image #25 from https://2.bp.blogspot.com/-YN0CbCLJH70/TbWJdCyC3UI/AAAAAAAACLE/Kfk3JmXbIM8/s1600/grass4.jpg\n",
            "[%] File Downloaded !\n",
            "\n",
            "[%] Downloading Image #26 from http://b.rgbimg.com/cache1ntK1z/users/r/ro/robby_m/600/dMNqfd.jpg\n",
            "[%] File Downloaded !\n",
            "\n",
            "[%] Downloading Image #27 from https://www.changecompanies.net/blog/leadingwithheart/wp-content/uploads/sites/2/2022/07/grass.jpg\n",
            "[!] Issue getting: https://www.changecompanies.net/blog/leadingwithheart/wp-content/uploads/sites/2/2022/07/grass.jpg\n",
            "[!] Error:: HTTP Error 404: Not Found\n",
            "\n",
            "\n",
            "[!!]Indexing page: 2\n",
            "\n",
            "[%] Indexed 35 Images on Page 2.\n",
            "\n",
            "===============================================\n",
            "\n",
            "[%] Downloading Image #27 from https://www.thespruce.com/thmb/kK-izBoxKSxRRJ7PAcvV2jAP-XI=/1500x1000/filters:no_upscale():max_bytes(150000):strip_icc()/Zebra_Grass2-589939665f9b5874ee5f223b.jpg\n",
            "[%] File Downloaded !\n",
            "\n",
            "[%] Downloading Image #28 from https://external-preview.redd.it/YczvnR2wORdITBdChvrQC5gK4eqlbzJx3vGpuRtoFFc.jpg?auto=webp&amp;s=f23be3892777dcd2b8be4c74264898e57dea9e2f\n",
            "[!] Issue getting: https://external-preview.redd.it/YczvnR2wORdITBdChvrQC5gK4eqlbzJx3vGpuRtoFFc.jpg?auto=webp&amp;s=f23be3892777dcd2b8be4c74264898e57dea9e2f\n",
            "[!] Error:: HTTP Error 403: Blocked\n",
            "[%] Downloading Image #28 from http://1.bp.blogspot.com/-amrlr8uduWI/UXLiDfJWBVI/AAAAAAAABHg/KNXnIKX12pU/s1600/August+22+2009+020.jpg\n",
            "[%] File Downloaded !\n",
            "\n",
            "[%] Downloading Image #29 from https://3.bp.blogspot.com/-Pkqeww_Gof8/Txl9ncpZ09I/AAAAAAAAAmE/VsShaKK_nCY/s1600/green-grass.jpg\n",
            "[%] File Downloaded !\n",
            "\n",
            "[%] Downloading Image #30 from http://fc01.deviantart.net/fs11/i/2006/228/0/3/Grass_by_ashzstock.jpg\n",
            "[%] File Downloaded !\n",
            "\n",
            "\n",
            "\n",
            "[%] Done. Downloaded 30 images.\n"
          ]
        }
      ]
    },
    {
      "cell_type": "code",
      "source": [
        "downloader.download(\"Stone\",limit=30,output_dir = 'images')"
      ],
      "metadata": {
        "id": "lX-DM7VwwVLH",
        "colab": {
          "base_uri": "https://localhost:8080/"
        },
        "outputId": "c04a2af2-ab6e-43f5-91ee-b7d23ea396ac"
      },
      "execution_count": null,
      "outputs": [
        {
          "output_type": "stream",
          "name": "stdout",
          "text": [
            "[%] Downloading Images to /content/images/Stone\n",
            "\n",
            "\n",
            "[!!]Indexing page: 1\n",
            "\n",
            "[%] Indexed 30 Images on Page 1.\n",
            "\n",
            "===============================================\n",
            "\n",
            "[%] Downloading Image #1 from http://www.imageafter.com/dbase/textures/walls/b17poows056.jpg\n",
            "[%] File Downloaded !\n",
            "\n",
            "[%] Downloading Image #2 from http://artofidealism.files.wordpress.com/2012/01/stones.jpg\n",
            "[!] Issue getting: http://artofidealism.files.wordpress.com/2012/01/stones.jpg\n",
            "[!] Error:: HTTP Error 403: Forbidden\n",
            "[%] Downloading Image #2 from https://upload.wikimedia.org/wikipedia/commons/c/c9/Cuff_Hill_logan_stone_2.JPG\n",
            "[%] File Downloaded !\n",
            "\n",
            "[%] Downloading Image #3 from http://bgfons.com/uploads/stone/stone_texture209.jpg\n",
            "[%] File Downloaded !\n",
            "\n",
            "[%] Downloading Image #4 from http://www.nvtc.ee/e-oppe/Marina/ehitus_materials/Stone.jpg\n",
            "[!] Issue getting: http://www.nvtc.ee/e-oppe/Marina/ehitus_materials/Stone.jpg\n",
            "[!] Error:: HTTP Error 404: Not Found\n",
            "[%] Downloading Image #4 from http://2.bp.blogspot.com/_pGKKSeIs0ow/TDIzNVN0L3I/AAAAAAAAA00/Pv_954RWIuM/s1600/river-stone.jpg\n",
            "[%] File Downloaded !\n",
            "\n",
            "[%] Downloading Image #5 from https://weknowyourdreams.com/images/stone/stone-04.jpg\n",
            "[!] Issue getting: https://weknowyourdreams.com/images/stone/stone-04.jpg\n",
            "[!] Error:: <urlopen error [SSL: CERTIFICATE_VERIFY_FAILED] certificate verify failed: unable to get local issuer certificate (_ssl.c:1007)>\n",
            "[%] Downloading Image #5 from https://thumbs.dreamstime.com/b/stone-13975282.jpg\n",
            "[%] File Downloaded !\n",
            "\n",
            "[%] Downloading Image #6 from http://refpenny.files.wordpress.com/2009/05/stone.jpg\n",
            "[Error]Invalid image, not saving http://refpenny.files.wordpress.com/2009/05/stone.jpg\n",
            "\n",
            "[!] Issue getting: http://refpenny.files.wordpress.com/2009/05/stone.jpg\n",
            "[!] Error:: Invalid image, not saving http://refpenny.files.wordpress.com/2009/05/stone.jpg\n",
            "\n",
            "[%] Downloading Image #6 from https://hdgbuildingmaterials.com/wp-content/uploads/2015/05/china-trip-kent-klaser-modified-2-of-7.jpg\n",
            "[%] File Downloaded !\n",
            "\n",
            "[%] Downloading Image #7 from https://cdn.pixabay.com/photo/2014/05/14/13/36/stones-344095_1280.jpg\n",
            "[%] File Downloaded !\n",
            "\n",
            "[%] Downloading Image #8 from https://i.pinimg.com/originals/91/88/15/91881528563f06d5f5321e1435e8e440.jpg\n",
            "[%] File Downloaded !\n",
            "\n",
            "[%] Downloading Image #9 from https://upload.wikimedia.org/wikipedia/commons/thumb/b/b6/Moelen.jpg/220px-Moelen.jpg\n",
            "[%] File Downloaded !\n",
            "\n",
            "[%] Downloading Image #10 from https://b.rgbimg.com/cache1sWjWj/users/m/mz/mzacha/600/nEMFAzC.jpg\n",
            "[%] File Downloaded !\n",
            "\n",
            "[%] Downloading Image #11 from https://1.bp.blogspot.com/-uCxHBaR4XMg/UCuJrvQNfsI/AAAAAAAAFPY/i8SV_apQFn4/s1600/Stone_Wallpaper_6.jpg\n",
            "[%] File Downloaded !\n",
            "\n",
            "[%] Downloading Image #12 from https://www.chaneyenterprises.com/images/products/stone2.jpg\n",
            "[Error]Invalid image, not saving https://www.chaneyenterprises.com/images/products/stone2.jpg\n",
            "\n",
            "[!] Issue getting: https://www.chaneyenterprises.com/images/products/stone2.jpg\n",
            "[!] Error:: Invalid image, not saving https://www.chaneyenterprises.com/images/products/stone2.jpg\n",
            "\n",
            "[%] Downloading Image #12 from http://www.publicdomainpictures.net/pictures/180000/velka/sea-stone.jpg\n",
            "[%] File Downloaded !\n",
            "\n",
            "[%] Downloading Image #13 from https://www.thespruce.com/thmb/HnoaUTjaKMgvqyalxS2dg3uY2fc=/2808x1872/filters:fill(auto,1)/full-frame-shot-of-wall-at-home-569759881-57e9d6395f9b586c3514e655.jpg\n",
            "[%] File Downloaded !\n",
            "\n",
            "[%] Downloading Image #14 from https://olivinstone.com/wp-content/uploads/2019/03/Stone-Olden.jpg\n",
            "[%] File Downloaded !\n",
            "\n",
            "[%] Downloading Image #15 from https://www.branddrivendigital.com/wp-content/uploads/2013/04/stone-soup.058.jpg\n",
            "[%] File Downloaded !\n",
            "\n",
            "[%] Downloading Image #16 from http://4.bp.blogspot.com/-LmPCTun2Je8/T1P6v7mMRsI/AAAAAAAAA4I/wauQnKX3P8o/s1600/Copy+of+SMOOTH-STONE.jpg\n",
            "[%] File Downloaded !\n",
            "\n",
            "[%] Downloading Image #17 from https://www.sketchuptextureclub.com/public/texture/36-wall-stone-with-regular-blocks-texture-seamless.jpg\n",
            "[%] File Downloaded !\n",
            "\n",
            "[%] Downloading Image #18 from http://3.bp.blogspot.com/-6nO0rsQ_g7Y/VFjaAX8N__I/AAAAAAAAGT8/F8PnKS6CGk0/s1600/Stone%2Blarge%2Bcoloured%2Bfloor%2Btiles%2Btexture%2B4770x3178.jpg\n",
            "[%] File Downloaded !\n",
            "\n",
            "[%] Downloading Image #19 from http://fc06.deviantart.net/fs70/i/2011/050/6/5/stone_texture___seamless_by_agf81-d39vfot.jpg\n",
            "[%] File Downloaded !\n",
            "\n",
            "[%] Downloading Image #20 from https://bgfons.com/uploads/stone/stone_texture160.jpg\n",
            "[%] File Downloaded !\n",
            "\n",
            "[%] Downloading Image #21 from https://dvlql5l8rro2c.cloudfront.net/production/bdsellerassets/faux-stone-siding-panels/stoneworks/images/stoneworks-faux-stone-siding---limestone/10082741---comp.jpg\n",
            "[%] File Downloaded !\n",
            "\n",
            "[%] Downloading Image #22 from http://th07.deviantart.net/fs70/PRE/i/2013/336/7/f/stone_1_by_kockakaboca-d6whain.jpg\n",
            "[%] File Downloaded !\n",
            "\n",
            "[%] Downloading Image #23 from https://1.bp.blogspot.com/-BSgGEtahd-0/UCuJLnB2tVI/AAAAAAAAFPI/Fo_a5bDXtRA/s1600/Stone_Wallpaper_4.jpg\n",
            "[%] File Downloaded !\n",
            "\n",
            "[%] Downloading Image #24 from https://www.guersmulch.com/img/portfolio/Susquehanna River Stone Large.jpg\n",
            "[!] Issue getting: https://www.guersmulch.com/img/portfolio/Susquehanna River Stone Large.jpg\n",
            "[!] Error:: URL can't contain control characters. '/img/portfolio/Susquehanna River Stone Large.jpg' (found at least ' ')\n",
            "[%] Downloading Image #24 from https://free-images.com/lg/2c45/patch_stones_floor_stone.jpg\n",
            "[%] File Downloaded !\n",
            "\n",
            "\n",
            "\n",
            "[!!]Indexing page: 2\n",
            "\n",
            "[%] Indexed 35 Images on Page 2.\n",
            "\n",
            "===============================================\n",
            "\n",
            "[%] Downloading Image #25 from http://www.psdgraphics.com/wp-content/uploads/2011/07/stone-texture.jpg\n",
            "[%] File Downloaded !\n",
            "\n",
            "[%] Downloading Image #26 from http://upload.wikimedia.org/wikipedia/commons/2/2e/Centre_Stone_Jersey.jpg\n",
            "[%] File Downloaded !\n",
            "\n",
            "[%] Downloading Image #27 from http://www.myfreetextures.com/wp-content/uploads/2012/05/2011-07-09-00660.jpg\n",
            "[%] File Downloaded !\n",
            "\n",
            "[%] Downloading Image #28 from https://stoneyard.com/wp-content/uploads/SP-Cambridge-Blend-Stone-Panel-Wall-web.jpg\n",
            "[%] File Downloaded !\n",
            "\n",
            "[%] Downloading Image #29 from https://jooinn.com/images/cracked-stone-wall-3.jpg\n",
            "[%] File Downloaded !\n",
            "\n",
            "\n",
            "\n",
            "[!!]Indexing page: 3\n",
            "\n",
            "[%] Indexed 30 Images on Page 3.\n",
            "\n",
            "===============================================\n",
            "\n",
            "\n",
            "\n",
            "[!!]Indexing page: 4\n",
            "\n",
            "[%] Indexed 30 Images on Page 4.\n",
            "\n",
            "===============================================\n",
            "\n",
            "\n",
            "\n",
            "[!!]Indexing page: 5\n",
            "\n",
            "[%] Indexed 30 Images on Page 5.\n",
            "\n",
            "===============================================\n",
            "\n",
            "\n",
            "\n",
            "[!!]Indexing page: 6\n",
            "\n",
            "[%] Indexed 30 Images on Page 6.\n",
            "\n",
            "===============================================\n",
            "\n",
            "\n",
            "\n",
            "[!!]Indexing page: 7\n",
            "\n",
            "[%] Indexed 30 Images on Page 7.\n",
            "\n",
            "===============================================\n",
            "\n",
            "\n",
            "\n",
            "[!!]Indexing page: 8\n",
            "\n",
            "[%] Indexed 30 Images on Page 8.\n",
            "\n",
            "===============================================\n",
            "\n",
            "[%] Downloading Image #30 from https://glebbahmutov.com/blog/images/rocks/arc.jpg\n",
            "[%] File Downloaded !\n",
            "\n",
            "\n",
            "\n",
            "[%] Done. Downloaded 30 images.\n"
          ]
        }
      ]
    },
    {
      "cell_type": "code",
      "source": [
        "downloader.download(\"road\",limit=30,output_dir = 'images')"
      ],
      "metadata": {
        "id": "ZGCd_DTDwmhw",
        "colab": {
          "base_uri": "https://localhost:8080/"
        },
        "outputId": "21265a12-88fb-4951-fcea-40497dd18cb3"
      },
      "execution_count": null,
      "outputs": [
        {
          "output_type": "stream",
          "name": "stdout",
          "text": [
            "[%] Downloading Images to /content/images/road\n",
            "\n",
            "\n",
            "[!!]Indexing page: 1\n",
            "\n",
            "[%] Indexed 30 Images on Page 1.\n",
            "\n",
            "===============================================\n",
            "\n",
            "[%] Downloading Image #1 from https://www.sabre-roads.org.uk/wiki/images/d/d2/Mount_Road.jpg\n",
            "[%] File Downloaded !\n",
            "\n",
            "[%] Downloading Image #2 from http://2.bp.blogspot.com/-3KCxAq0vQOo/Tt6eqkhQMXI/AAAAAAAABVU/V3qP6vi0His/s1600/2011_road_01.jpg\n",
            "[%] File Downloaded !\n",
            "\n",
            "[%] Downloading Image #3 from http://eskipaper.com/images/road-1.jpg\n",
            "[%] File Downloaded !\n",
            "\n",
            "[%] Downloading Image #4 from https://images2.pics4learning.com/catalog/i/img_2948.jpg\n",
            "[%] File Downloaded !\n",
            "\n",
            "[%] Downloading Image #5 from https://www.equipmentworld.com/wp-content/uploads/sites/2/2014/05/emptyroad.jpg\n",
            "[!] Issue getting: https://www.equipmentworld.com/wp-content/uploads/sites/2/2014/05/emptyroad.jpg\n",
            "[!] Error:: HTTP Error 522: \n",
            "[%] Downloading Image #5 from https://www.wallpaperup.com/uploads/wallpapers/2012/10/09/18696/6d5cbd2bb285cfc1e24c2f1e0edf9cb7.jpg\n",
            "[%] File Downloaded !\n",
            "\n",
            "[%] Downloading Image #6 from https://cdn.wallpapersafari.com/32/93/cRmF89.jpg\n",
            "[%] File Downloaded !\n",
            "\n",
            "[%] Downloading Image #7 from http://4.bp.blogspot.com/-hXwynqpTGds/VCRuV97nUBI/AAAAAAAASis/RpRmzqWxetE/s1600/road2.jpg\n",
            "[%] File Downloaded !\n",
            "\n",
            "[%] Downloading Image #8 from http://www.lifewithoneeyeopen.com/wp-content/uploads/2015/01/winding-road-through-green-hills-hd-wallpaper-500551.jpg\n",
            "[%] File Downloaded !\n",
            "\n",
            "[%] Downloading Image #9 from http://images3.alphacoders.com/228/22857.jpg\n",
            "[%] File Downloaded !\n",
            "\n",
            "[%] Downloading Image #10 from https://2.bp.blogspot.com/_t3qaNX-CFyA/SI4DsXMoEBI/AAAAAAAAAVo/kfDaMOXTORA/s1600/road\n",
            "[%] File Downloaded !\n",
            "\n",
            "[%] Downloading Image #11 from https://upload.wikimedia.org/wikipedia/commons/thumb/d/df/Evacuated_Highway_401_Color.jpg/1200px-Evacuated_Highway_401_Color.jpg\n",
            "[%] File Downloaded !\n",
            "\n",
            "[%] Downloading Image #12 from https://wallpapercave.com/wp/wp5762539.jpg\n",
            "[%] File Downloaded !\n",
            "\n",
            "[%] Downloading Image #13 from https://jooinn.com/images/road-side-1.jpg\n",
            "[%] File Downloaded !\n",
            "\n",
            "[%] Downloading Image #14 from https://images.alphacoders.com/111/111313.jpg\n",
            "[%] File Downloaded !\n",
            "\n",
            "[%] Downloading Image #15 from https://3.bp.blogspot.com/_o3upKVaFSeQ/TNcJ8P4FJnI/AAAAAAAAAKA/9OvgGT0aZn0/s1600/northern-road.jpg\n",
            "[%] File Downloaded !\n",
            "\n",
            "[%] Downloading Image #16 from https://images5.alphacoders.com/567/567118.jpg\n",
            "[%] File Downloaded !\n",
            "\n",
            "[%] Downloading Image #17 from https://wallpapercave.com/wp/wp9559923.jpg\n",
            "[%] File Downloaded !\n",
            "\n",
            "[%] Downloading Image #18 from https://media.cntraveler.com/photos/572a193f8b623bd0105880ef/16:9/pass/roadtrips-southwest-arizona-cr-GettyImages-466638071.jpg\n",
            "[%] File Downloaded !\n",
            "\n",
            "[%] Downloading Image #19 from https://www.pixelstalk.net/wp-content/uploads/images1/Beautiful-beautiful-road-wallpaper-hd.jpg\n",
            "[%] File Downloaded !\n",
            "\n",
            "[%] Downloading Image #20 from https://outsidethehuddle.net/wp-content/uploads/2019/09/road.jpg\n",
            "[%] File Downloaded !\n",
            "\n",
            "[%] Downloading Image #21 from http://sunipix.com/Road-6.jpg\n",
            "[%] File Downloaded !\n",
            "\n",
            "[%] Downloading Image #22 from https://c1.staticflickr.com/5/4115/4848088053_d85d9a9953_b.jpg\n",
            "[%] File Downloaded !\n",
            "\n",
            "[%] Downloading Image #23 from https://www.campdoc.com/files/on-the-road.jpg\n",
            "[%] File Downloaded !\n",
            "\n",
            "[%] Downloading Image #24 from https://thedailybounce.net/wp-content/uploads/2016/11/roads-11.jpg\n",
            "[%] File Downloaded !\n",
            "\n",
            "[%] Downloading Image #25 from https://2.bp.blogspot.com/_-bsBXRL81J0/TRHTz35--aI/AAAAAAAAABo/ISIobLxqSUg/s1600/road.jpg\n",
            "[%] File Downloaded !\n",
            "\n",
            "[%] Downloading Image #26 from https://pixnio.com/free-images/2018/12/11/2018-12-11-12-32-31.jpg\n",
            "[%] File Downloaded !\n",
            "\n",
            "[%] Downloading Image #27 from https://images.pexels.com/photos/1008739/pexels-photo-1008739.jpeg?auto=compress&amp;cs=tinysrgb&amp;dpr=3&amp;h=750&amp;w=1260\n",
            "[%] File Downloaded !\n",
            "\n",
            "[%] Downloading Image #28 from https://sweetiq.com/wp-content/uploads/2017/06/iStock-513106144.jpg\n",
            "[%] File Downloaded !\n",
            "\n",
            "[%] Downloading Image #29 from https://s-i.huffpost.com/gen/2126938/images/o-ROAD-TRIP-facebook.jpg\n",
            "[%] File Downloaded !\n",
            "\n",
            "\n",
            "\n",
            "[!!]Indexing page: 2\n",
            "\n",
            "[%] Indexed 35 Images on Page 2.\n",
            "\n",
            "===============================================\n",
            "\n",
            "[%] Downloading Image #30 from https://images.unsplash.com/photo-1486673748761-a8d18475c757?ixlib=rb-1.2.1&amp;ixid=eyJhcHBfaWQiOjEyMDd9&amp;w=1000&amp;q=80\n",
            "[%] File Downloaded !\n",
            "\n",
            "\n",
            "\n",
            "[%] Done. Downloaded 30 images.\n"
          ]
        }
      ]
    },
    {
      "cell_type": "code",
      "source": [
        "# Preprocessing part\n",
        "import os\n",
        "import matplotlib.pyplot as plt\n",
        "import numpy as np\n",
        "from skimage.io import imread\n",
        "from skimage.transform import resize\n",
        "\n"
      ],
      "metadata": {
        "id": "6Nj0TjiCw82I"
      },
      "execution_count": null,
      "outputs": []
    },
    {
      "cell_type": "code",
      "source": [
        "target = []\n",
        "images = []\n",
        "flat_data = []\n",
        "\n",
        "DATADIR = '/content/images'\n",
        "CATEGORIES = ['Grass','Stone','road']\n",
        "\n",
        "for category in CATEGORIES:\n",
        "  class_num = CATEGORIES.index(category)\n",
        "  path = os.path.join(DATADIR,category)\n",
        "  for img in os.listdir(path):\n",
        "    img_array = imread(os.path.join(path,img))\n",
        "    #plt.imshow(img_array)\n",
        "    img_resized = resize(img_array,(150,150,3))\n",
        "    flat_data.append(img_resized.flatten())\n",
        "    images.append(img_resized)\n",
        "    target.append(class_num)\n",
        "flat_data = np.array(flat_data)\n",
        "target = np.array(target)\n",
        "images = np.array(images)"
      ],
      "metadata": {
        "id": "2e1opHMcxxKQ"
      },
      "execution_count": null,
      "outputs": []
    },
    {
      "cell_type": "code",
      "source": [
        "from google.colab import drive\n",
        "drive.mount('/content/drive')"
      ],
      "metadata": {
        "id": "O4UwToOU062w"
      },
      "execution_count": null,
      "outputs": []
    },
    {
      "cell_type": "code",
      "source": [
        "#split data\n",
        "from sklearn.model_selection import train_test_split\n",
        "X_train,X_test,y_train,y_test = train_test_split(flat_data,target,test_size = 0.3, random_state = 42)"
      ],
      "metadata": {
        "id": "daf0UFXNzMkD"
      },
      "execution_count": null,
      "outputs": []
    },
    {
      "cell_type": "code",
      "source": [
        "#Classification algorithm\n",
        "#We will be using SVM supervised learning algorithm\n",
        "from sklearn.model_selection import GridSearchCV\n",
        "from sklearn import svm\n",
        "param_grid = [\n",
        "              {'C':[1,10,100,1000],'kernel':['linear']},\n",
        "              {'C':[1,10,100,1000],'gamma':[0.001,0.0001] ,'kernel':['rbf']}\n",
        "]\n",
        "\n",
        "svc = svm.SVC( probability = True )\n",
        "clf = GridSearchCV(svc,param_grid)\n",
        "clf.fit(X_train,y_train)\n"
      ],
      "metadata": {
        "colab": {
          "base_uri": "https://localhost:8080/",
          "height": 118
        },
        "id": "7-uJ9XUo_J6y",
        "outputId": "4835618a-5823-43ae-cbb5-559c778dd7d4"
      },
      "execution_count": null,
      "outputs": [
        {
          "output_type": "execute_result",
          "data": {
            "text/plain": [
              "GridSearchCV(estimator=SVC(probability=True),\n",
              "             param_grid=[{'C': [1, 10, 100, 1000], 'kernel': ['linear']},\n",
              "                         {'C': [1, 10, 100, 1000], 'gamma': [0.001, 0.0001],\n",
              "                          'kernel': ['rbf']}])"
            ],
            "text/html": [
              "<style>#sk-container-id-1 {color: black;background-color: white;}#sk-container-id-1 pre{padding: 0;}#sk-container-id-1 div.sk-toggleable {background-color: white;}#sk-container-id-1 label.sk-toggleable__label {cursor: pointer;display: block;width: 100%;margin-bottom: 0;padding: 0.3em;box-sizing: border-box;text-align: center;}#sk-container-id-1 label.sk-toggleable__label-arrow:before {content: \"▸\";float: left;margin-right: 0.25em;color: #696969;}#sk-container-id-1 label.sk-toggleable__label-arrow:hover:before {color: black;}#sk-container-id-1 div.sk-estimator:hover label.sk-toggleable__label-arrow:before {color: black;}#sk-container-id-1 div.sk-toggleable__content {max-height: 0;max-width: 0;overflow: hidden;text-align: left;background-color: #f0f8ff;}#sk-container-id-1 div.sk-toggleable__content pre {margin: 0.2em;color: black;border-radius: 0.25em;background-color: #f0f8ff;}#sk-container-id-1 input.sk-toggleable__control:checked~div.sk-toggleable__content {max-height: 200px;max-width: 100%;overflow: auto;}#sk-container-id-1 input.sk-toggleable__control:checked~label.sk-toggleable__label-arrow:before {content: \"▾\";}#sk-container-id-1 div.sk-estimator input.sk-toggleable__control:checked~label.sk-toggleable__label {background-color: #d4ebff;}#sk-container-id-1 div.sk-label input.sk-toggleable__control:checked~label.sk-toggleable__label {background-color: #d4ebff;}#sk-container-id-1 input.sk-hidden--visually {border: 0;clip: rect(1px 1px 1px 1px);clip: rect(1px, 1px, 1px, 1px);height: 1px;margin: -1px;overflow: hidden;padding: 0;position: absolute;width: 1px;}#sk-container-id-1 div.sk-estimator {font-family: monospace;background-color: #f0f8ff;border: 1px dotted black;border-radius: 0.25em;box-sizing: border-box;margin-bottom: 0.5em;}#sk-container-id-1 div.sk-estimator:hover {background-color: #d4ebff;}#sk-container-id-1 div.sk-parallel-item::after {content: \"\";width: 100%;border-bottom: 1px solid gray;flex-grow: 1;}#sk-container-id-1 div.sk-label:hover label.sk-toggleable__label {background-color: #d4ebff;}#sk-container-id-1 div.sk-serial::before {content: \"\";position: absolute;border-left: 1px solid gray;box-sizing: border-box;top: 0;bottom: 0;left: 50%;z-index: 0;}#sk-container-id-1 div.sk-serial {display: flex;flex-direction: column;align-items: center;background-color: white;padding-right: 0.2em;padding-left: 0.2em;position: relative;}#sk-container-id-1 div.sk-item {position: relative;z-index: 1;}#sk-container-id-1 div.sk-parallel {display: flex;align-items: stretch;justify-content: center;background-color: white;position: relative;}#sk-container-id-1 div.sk-item::before, #sk-container-id-1 div.sk-parallel-item::before {content: \"\";position: absolute;border-left: 1px solid gray;box-sizing: border-box;top: 0;bottom: 0;left: 50%;z-index: -1;}#sk-container-id-1 div.sk-parallel-item {display: flex;flex-direction: column;z-index: 1;position: relative;background-color: white;}#sk-container-id-1 div.sk-parallel-item:first-child::after {align-self: flex-end;width: 50%;}#sk-container-id-1 div.sk-parallel-item:last-child::after {align-self: flex-start;width: 50%;}#sk-container-id-1 div.sk-parallel-item:only-child::after {width: 0;}#sk-container-id-1 div.sk-dashed-wrapped {border: 1px dashed gray;margin: 0 0.4em 0.5em 0.4em;box-sizing: border-box;padding-bottom: 0.4em;background-color: white;}#sk-container-id-1 div.sk-label label {font-family: monospace;font-weight: bold;display: inline-block;line-height: 1.2em;}#sk-container-id-1 div.sk-label-container {text-align: center;}#sk-container-id-1 div.sk-container {/* jupyter's `normalize.less` sets `[hidden] { display: none; }` but bootstrap.min.css set `[hidden] { display: none !important; }` so we also need the `!important` here to be able to override the default hidden behavior on the sphinx rendered scikit-learn.org. See: https://github.com/scikit-learn/scikit-learn/issues/21755 */display: inline-block !important;position: relative;}#sk-container-id-1 div.sk-text-repr-fallback {display: none;}</style><div id=\"sk-container-id-1\" class=\"sk-top-container\"><div class=\"sk-text-repr-fallback\"><pre>GridSearchCV(estimator=SVC(probability=True),\n",
              "             param_grid=[{&#x27;C&#x27;: [1, 10, 100, 1000], &#x27;kernel&#x27;: [&#x27;linear&#x27;]},\n",
              "                         {&#x27;C&#x27;: [1, 10, 100, 1000], &#x27;gamma&#x27;: [0.001, 0.0001],\n",
              "                          &#x27;kernel&#x27;: [&#x27;rbf&#x27;]}])</pre><b>In a Jupyter environment, please rerun this cell to show the HTML representation or trust the notebook. <br />On GitHub, the HTML representation is unable to render, please try loading this page with nbviewer.org.</b></div><div class=\"sk-container\" hidden><div class=\"sk-item sk-dashed-wrapped\"><div class=\"sk-label-container\"><div class=\"sk-label sk-toggleable\"><input class=\"sk-toggleable__control sk-hidden--visually\" id=\"sk-estimator-id-1\" type=\"checkbox\" ><label for=\"sk-estimator-id-1\" class=\"sk-toggleable__label sk-toggleable__label-arrow\">GridSearchCV</label><div class=\"sk-toggleable__content\"><pre>GridSearchCV(estimator=SVC(probability=True),\n",
              "             param_grid=[{&#x27;C&#x27;: [1, 10, 100, 1000], &#x27;kernel&#x27;: [&#x27;linear&#x27;]},\n",
              "                         {&#x27;C&#x27;: [1, 10, 100, 1000], &#x27;gamma&#x27;: [0.001, 0.0001],\n",
              "                          &#x27;kernel&#x27;: [&#x27;rbf&#x27;]}])</pre></div></div></div><div class=\"sk-parallel\"><div class=\"sk-parallel-item\"><div class=\"sk-item\"><div class=\"sk-label-container\"><div class=\"sk-label sk-toggleable\"><input class=\"sk-toggleable__control sk-hidden--visually\" id=\"sk-estimator-id-2\" type=\"checkbox\" ><label for=\"sk-estimator-id-2\" class=\"sk-toggleable__label sk-toggleable__label-arrow\">estimator: SVC</label><div class=\"sk-toggleable__content\"><pre>SVC(probability=True)</pre></div></div></div><div class=\"sk-serial\"><div class=\"sk-item\"><div class=\"sk-estimator sk-toggleable\"><input class=\"sk-toggleable__control sk-hidden--visually\" id=\"sk-estimator-id-3\" type=\"checkbox\" ><label for=\"sk-estimator-id-3\" class=\"sk-toggleable__label sk-toggleable__label-arrow\">SVC</label><div class=\"sk-toggleable__content\"><pre>SVC(probability=True)</pre></div></div></div></div></div></div></div></div></div></div>"
            ]
          },
          "metadata": {},
          "execution_count": 9
        }
      ]
    },
    {
      "cell_type": "code",
      "source": [
        "y_pred = clf.predict(X_test)"
      ],
      "metadata": {
        "id": "93yM_1uxJbOr"
      },
      "execution_count": null,
      "outputs": []
    },
    {
      "cell_type": "markdown",
      "source": [],
      "metadata": {
        "id": "Pk25JHp3BP5V"
      }
    },
    {
      "cell_type": "code",
      "source": [
        "from sklearn.metrics import accuracy_score, confusion_matrix"
      ],
      "metadata": {
        "id": "kOudgwRaJytx"
      },
      "execution_count": null,
      "outputs": []
    },
    {
      "cell_type": "code",
      "source": [
        "accuracy_score(y_pred,y_test)"
      ],
      "metadata": {
        "colab": {
          "base_uri": "https://localhost:8080/"
        },
        "id": "r8NDhC_VJ_2r",
        "outputId": "c20ad74a-40b8-4f50-b536-eba8121138bc"
      },
      "execution_count": null,
      "outputs": [
        {
          "output_type": "execute_result",
          "data": {
            "text/plain": [
              "0.8148148148148148"
            ]
          },
          "metadata": {},
          "execution_count": 14
        }
      ]
    },
    {
      "cell_type": "code",
      "source": [
        "confusion_matrix(y_pred,y_test)"
      ],
      "metadata": {
        "id": "gl2-FOtRKFTx",
        "colab": {
          "base_uri": "https://localhost:8080/"
        },
        "outputId": "472dc3cd-df2d-4c64-8d07-e69c8d8aa14d"
      },
      "execution_count": null,
      "outputs": [
        {
          "output_type": "execute_result",
          "data": {
            "text/plain": [
              "array([[8, 0, 0],\n",
              "       [1, 8, 3],\n",
              "       [0, 1, 6]])"
            ]
          },
          "metadata": {},
          "execution_count": 16
        }
      ]
    },
    {
      "cell_type": "code",
      "source": [
        "import pickle\n",
        "pickle.dump(clf,open('img_model.p','wb'))"
      ],
      "metadata": {
        "id": "0sz8TMRiiyvo"
      },
      "execution_count": null,
      "outputs": []
    },
    {
      "cell_type": "code",
      "source": [
        "model = pickle.load(open('img_model.p','rb'))"
      ],
      "metadata": {
        "id": "aTkLeBcBlpmh"
      },
      "execution_count": null,
      "outputs": []
    },
    {
      "cell_type": "code",
      "source": [
        "#Testing a brand new image\n",
        "flat_data = []\n",
        "url = input('Enter your URL')\n",
        "img = imread(url)\n",
        "img_resized = resize(img,(150,150,3))\n",
        "flat_data.append(img_resized.flatten())\n",
        "flat_data = np.array(flat_data)\n",
        "print(img.shape)\n",
        "plt.imshow(img_resized)\n",
        "y_out = model.predict(flat_data)\n",
        "y_out = CATEGORIES[y_out[0]]\n",
        "if(y_out != \"road\"):\n",
        "  print(f'PREDICTED OUTPUT: {y_out} Mountain')\n",
        "else:\n",
        "  print(f'PREDICTED OUTPUT: {y_out}')\n"
      ],
      "metadata": {
        "id": "fa1VrwZLl_w2"
      },
      "execution_count": null,
      "outputs": []
    },
    {
      "cell_type": "code",
      "source": [],
      "metadata": {
        "id": "p0C6rY666knB"
      },
      "execution_count": null,
      "outputs": []
    }
  ]
}